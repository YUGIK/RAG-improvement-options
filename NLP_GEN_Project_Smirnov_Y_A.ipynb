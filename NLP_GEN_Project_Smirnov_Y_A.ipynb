{
 "cells": [
  {
   "cell_type": "code",
   "execution_count": 1,
   "metadata": {
    "id": "6gABrrm3kEne"
   },
   "outputs": [
    {
     "name": "stdout",
     "output_type": "stream",
     "text": [
      "Requirement already satisfied: chromadb in f:\\python\\3_10\\lib\\site-packages (1.0.7)\n",
      "Requirement already satisfied: sentence-transformers in f:\\python\\3_10\\lib\\site-packages (4.1.0)\n",
      "Requirement already satisfied: pypdf2 in f:\\python\\3_10\\lib\\site-packages (3.0.1)\n",
      "Requirement already satisfied: requests in f:\\python\\3_10\\lib\\site-packages (2.32.3)\n",
      "Requirement already satisfied: pdfminer in f:\\python\\3_10\\lib\\site-packages (20191125)\n",
      "Requirement already satisfied: pdfminer.six in f:\\python\\3_10\\lib\\site-packages (20250416)\n",
      "Requirement already satisfied: build>=1.0.3 in f:\\python\\3_10\\lib\\site-packages (from chromadb) (1.2.2.post1)\n",
      "Requirement already satisfied: pydantic>=1.9 in f:\\python\\3_10\\lib\\site-packages (from chromadb) (2.11.4)\n",
      "Requirement already satisfied: chroma-hnswlib==0.7.6 in f:\\python\\3_10\\lib\\site-packages (from chromadb) (0.7.6)\n",
      "Requirement already satisfied: fastapi==0.115.9 in f:\\python\\3_10\\lib\\site-packages (from chromadb) (0.115.9)\n",
      "Requirement already satisfied: uvicorn>=0.18.3 in f:\\python\\3_10\\lib\\site-packages (from uvicorn[standard]>=0.18.3->chromadb) (0.34.2)\n",
      "Requirement already satisfied: numpy>=1.22.5 in f:\\python\\3_10\\lib\\site-packages (from chromadb) (2.2.5)\n",
      "Requirement already satisfied: posthog>=2.4.0 in f:\\python\\3_10\\lib\\site-packages (from chromadb) (4.0.1)\n",
      "Requirement already satisfied: typing-extensions>=4.5.0 in c:\\users\\h4rdwork\\appdata\\roaming\\python\\python310\\site-packages (from chromadb) (4.13.2)\n",
      "Requirement already satisfied: onnxruntime>=1.14.1 in f:\\python\\3_10\\lib\\site-packages (from chromadb) (1.21.1)\n",
      "Requirement already satisfied: opentelemetry-api>=1.2.0 in f:\\python\\3_10\\lib\\site-packages (from chromadb) (1.32.1)\n",
      "Requirement already satisfied: opentelemetry-exporter-otlp-proto-grpc>=1.2.0 in f:\\python\\3_10\\lib\\site-packages (from chromadb) (1.32.1)\n",
      "Requirement already satisfied: opentelemetry-instrumentation-fastapi>=0.41b0 in f:\\python\\3_10\\lib\\site-packages (from chromadb) (0.53b1)\n",
      "Requirement already satisfied: opentelemetry-sdk>=1.2.0 in f:\\python\\3_10\\lib\\site-packages (from chromadb) (1.32.1)\n",
      "Requirement already satisfied: tokenizers>=0.13.2 in f:\\python\\3_10\\lib\\site-packages (from chromadb) (0.21.1)\n",
      "Requirement already satisfied: pypika>=0.48.9 in f:\\python\\3_10\\lib\\site-packages (from chromadb) (0.48.9)\n",
      "Requirement already satisfied: tqdm>=4.65.0 in f:\\python\\3_10\\lib\\site-packages (from chromadb) (4.67.1)\n",
      "Requirement already satisfied: overrides>=7.3.1 in f:\\python\\3_10\\lib\\site-packages (from chromadb) (7.7.0)\n",
      "Requirement already satisfied: importlib-resources in f:\\python\\3_10\\lib\\site-packages (from chromadb) (6.5.2)\n",
      "Requirement already satisfied: grpcio>=1.58.0 in f:\\python\\3_10\\lib\\site-packages (from chromadb) (1.71.0)\n",
      "Requirement already satisfied: bcrypt>=4.0.1 in f:\\python\\3_10\\lib\\site-packages (from chromadb) (4.3.0)\n",
      "Requirement already satisfied: typer>=0.9.0 in f:\\python\\3_10\\lib\\site-packages (from chromadb) (0.15.3)\n",
      "Requirement already satisfied: kubernetes>=28.1.0 in f:\\python\\3_10\\lib\\site-packages (from chromadb) (32.0.1)\n",
      "Requirement already satisfied: tenacity>=8.2.3 in f:\\python\\3_10\\lib\\site-packages (from chromadb) (9.1.2)\n",
      "Requirement already satisfied: pyyaml>=6.0.0 in f:\\python\\3_10\\lib\\site-packages (from chromadb) (6.0.2)\n",
      "Requirement already satisfied: mmh3>=4.0.1 in f:\\python\\3_10\\lib\\site-packages (from chromadb) (5.1.0)\n",
      "Requirement already satisfied: orjson>=3.9.12 in f:\\python\\3_10\\lib\\site-packages (from chromadb) (3.10.18)\n",
      "Requirement already satisfied: httpx>=0.27.0 in f:\\python\\3_10\\lib\\site-packages (from chromadb) (0.28.1)\n",
      "Requirement already satisfied: rich>=10.11.0 in f:\\python\\3_10\\lib\\site-packages (from chromadb) (14.0.0)\n",
      "Requirement already satisfied: jsonschema>=4.19.0 in f:\\python\\3_10\\lib\\site-packages (from chromadb) (4.23.0)\n",
      "Requirement already satisfied: starlette<0.46.0,>=0.40.0 in f:\\python\\3_10\\lib\\site-packages (from fastapi==0.115.9->chromadb) (0.45.3)\n",
      "Requirement already satisfied: annotated-types>=0.6.0 in f:\\python\\3_10\\lib\\site-packages (from pydantic>=1.9->chromadb) (0.7.0)\n",
      "Requirement already satisfied: pydantic-core==2.33.2 in f:\\python\\3_10\\lib\\site-packages (from pydantic>=1.9->chromadb) (2.33.2)\n",
      "Requirement already satisfied: typing-inspection>=0.4.0 in f:\\python\\3_10\\lib\\site-packages (from pydantic>=1.9->chromadb) (0.4.0)\n",
      "Requirement already satisfied: anyio<5,>=3.6.2 in f:\\python\\3_10\\lib\\site-packages (from starlette<0.46.0,>=0.40.0->fastapi==0.115.9->chromadb) (4.9.0)\n",
      "Requirement already satisfied: exceptiongroup>=1.0.2 in c:\\users\\h4rdwork\\appdata\\roaming\\python\\python310\\site-packages (from anyio<5,>=3.6.2->starlette<0.46.0,>=0.40.0->fastapi==0.115.9->chromadb) (1.2.2)\n",
      "Requirement already satisfied: idna>=2.8 in f:\\python\\3_10\\lib\\site-packages (from anyio<5,>=3.6.2->starlette<0.46.0,>=0.40.0->fastapi==0.115.9->chromadb) (3.10)\n",
      "Requirement already satisfied: sniffio>=1.1 in f:\\python\\3_10\\lib\\site-packages (from anyio<5,>=3.6.2->starlette<0.46.0,>=0.40.0->fastapi==0.115.9->chromadb) (1.3.1)\n",
      "Requirement already satisfied: transformers<5.0.0,>=4.41.0 in f:\\python\\3_10\\lib\\site-packages (from sentence-transformers) (4.51.3)\n",
      "Requirement already satisfied: torch>=1.11.0 in f:\\python\\3_10\\lib\\site-packages (from sentence-transformers) (2.5.1+cu121)\n",
      "Requirement already satisfied: scikit-learn in f:\\python\\3_10\\lib\\site-packages (from sentence-transformers) (1.6.1)\n",
      "Requirement already satisfied: scipy in f:\\python\\3_10\\lib\\site-packages (from sentence-transformers) (1.15.2)\n",
      "Requirement already satisfied: huggingface-hub>=0.20.0 in f:\\python\\3_10\\lib\\site-packages (from sentence-transformers) (0.30.2)\n",
      "Requirement already satisfied: Pillow in f:\\python\\3_10\\lib\\site-packages (from sentence-transformers) (11.2.1)\n",
      "Requirement already satisfied: filelock in f:\\python\\3_10\\lib\\site-packages (from transformers<5.0.0,>=4.41.0->sentence-transformers) (3.18.0)\n",
      "Requirement already satisfied: packaging>=20.0 in c:\\users\\h4rdwork\\appdata\\roaming\\python\\python310\\site-packages (from transformers<5.0.0,>=4.41.0->sentence-transformers) (25.0)\n",
      "Requirement already satisfied: regex!=2019.12.17 in f:\\python\\3_10\\lib\\site-packages (from transformers<5.0.0,>=4.41.0->sentence-transformers) (2024.11.6)\n",
      "Requirement already satisfied: safetensors>=0.4.3 in f:\\python\\3_10\\lib\\site-packages (from transformers<5.0.0,>=4.41.0->sentence-transformers) (0.5.3)\n",
      "Requirement already satisfied: fsspec>=2023.5.0 in f:\\python\\3_10\\lib\\site-packages (from huggingface-hub>=0.20.0->sentence-transformers) (2025.3.0)\n",
      "Requirement already satisfied: charset-normalizer<4,>=2 in f:\\python\\3_10\\lib\\site-packages (from requests) (3.4.2)\n",
      "Requirement already satisfied: urllib3<3,>=1.21.1 in f:\\python\\3_10\\lib\\site-packages (from requests) (2.4.0)\n",
      "Requirement already satisfied: certifi>=2017.4.17 in f:\\python\\3_10\\lib\\site-packages (from requests) (2025.4.26)\n",
      "Requirement already satisfied: pycryptodome in f:\\python\\3_10\\lib\\site-packages (from pdfminer) (3.22.0)\n",
      "Requirement already satisfied: cryptography>=36.0.0 in f:\\python\\3_10\\lib\\site-packages (from pdfminer.six) (44.0.3)\n",
      "Requirement already satisfied: pyproject_hooks in f:\\python\\3_10\\lib\\site-packages (from build>=1.0.3->chromadb) (1.2.0)\n",
      "Requirement already satisfied: colorama in c:\\users\\h4rdwork\\appdata\\roaming\\python\\python310\\site-packages (from build>=1.0.3->chromadb) (0.4.6)\n",
      "Requirement already satisfied: importlib-metadata>=4.6 in f:\\python\\3_10\\lib\\site-packages (from build>=1.0.3->chromadb) (8.6.1)\n",
      "Requirement already satisfied: tomli>=1.1.0 in f:\\python\\3_10\\lib\\site-packages (from build>=1.0.3->chromadb) (2.2.1)\n",
      "Requirement already satisfied: cffi>=1.12 in f:\\python\\3_10\\lib\\site-packages (from cryptography>=36.0.0->pdfminer.six) (1.17.1)\n",
      "Requirement already satisfied: pycparser in f:\\python\\3_10\\lib\\site-packages (from cffi>=1.12->cryptography>=36.0.0->pdfminer.six) (2.22)\n",
      "Requirement already satisfied: httpcore==1.* in f:\\python\\3_10\\lib\\site-packages (from httpx>=0.27.0->chromadb) (1.0.9)\n",
      "Requirement already satisfied: h11>=0.16 in f:\\python\\3_10\\lib\\site-packages (from httpcore==1.*->httpx>=0.27.0->chromadb) (0.16.0)\n",
      "Requirement already satisfied: zipp>=3.20 in f:\\python\\3_10\\lib\\site-packages (from importlib-metadata>=4.6->build>=1.0.3->chromadb) (3.21.0)\n",
      "Requirement already satisfied: attrs>=22.2.0 in f:\\python\\3_10\\lib\\site-packages (from jsonschema>=4.19.0->chromadb) (25.3.0)\n",
      "Requirement already satisfied: jsonschema-specifications>=2023.03.6 in f:\\python\\3_10\\lib\\site-packages (from jsonschema>=4.19.0->chromadb) (2025.4.1)\n",
      "Requirement already satisfied: referencing>=0.28.4 in f:\\python\\3_10\\lib\\site-packages (from jsonschema>=4.19.0->chromadb) (0.36.2)\n",
      "Requirement already satisfied: rpds-py>=0.7.1 in f:\\python\\3_10\\lib\\site-packages (from jsonschema>=4.19.0->chromadb) (0.24.0)\n",
      "Requirement already satisfied: six>=1.9.0 in c:\\users\\h4rdwork\\appdata\\roaming\\python\\python310\\site-packages (from kubernetes>=28.1.0->chromadb) (1.17.0)\n",
      "Requirement already satisfied: python-dateutil>=2.5.3 in c:\\users\\h4rdwork\\appdata\\roaming\\python\\python310\\site-packages (from kubernetes>=28.1.0->chromadb) (2.9.0.post0)\n",
      "Requirement already satisfied: google-auth>=1.0.1 in f:\\python\\3_10\\lib\\site-packages (from kubernetes>=28.1.0->chromadb) (2.39.0)\n",
      "Requirement already satisfied: websocket-client!=0.40.0,!=0.41.*,!=0.42.*,>=0.32.0 in f:\\python\\3_10\\lib\\site-packages (from kubernetes>=28.1.0->chromadb) (1.8.0)\n",
      "Requirement already satisfied: requests-oauthlib in f:\\python\\3_10\\lib\\site-packages (from kubernetes>=28.1.0->chromadb) (2.0.0)\n",
      "Requirement already satisfied: oauthlib>=3.2.2 in f:\\python\\3_10\\lib\\site-packages (from kubernetes>=28.1.0->chromadb) (3.2.2)\n",
      "Requirement already satisfied: durationpy>=0.7 in f:\\python\\3_10\\lib\\site-packages (from kubernetes>=28.1.0->chromadb) (0.9)\n",
      "Requirement already satisfied: cachetools<6.0,>=2.0.0 in f:\\python\\3_10\\lib\\site-packages (from google-auth>=1.0.1->kubernetes>=28.1.0->chromadb) (5.5.2)\n",
      "Requirement already satisfied: pyasn1-modules>=0.2.1 in f:\\python\\3_10\\lib\\site-packages (from google-auth>=1.0.1->kubernetes>=28.1.0->chromadb) (0.4.2)\n",
      "Requirement already satisfied: rsa<5,>=3.1.4 in f:\\python\\3_10\\lib\\site-packages (from google-auth>=1.0.1->kubernetes>=28.1.0->chromadb) (4.9.1)\n",
      "Requirement already satisfied: pyasn1>=0.1.3 in f:\\python\\3_10\\lib\\site-packages (from rsa<5,>=3.1.4->google-auth>=1.0.1->kubernetes>=28.1.0->chromadb) (0.6.1)\n",
      "Requirement already satisfied: coloredlogs in f:\\python\\3_10\\lib\\site-packages (from onnxruntime>=1.14.1->chromadb) (15.0.1)\n",
      "Requirement already satisfied: flatbuffers in f:\\python\\3_10\\lib\\site-packages (from onnxruntime>=1.14.1->chromadb) (25.2.10)\n",
      "Requirement already satisfied: protobuf in f:\\python\\3_10\\lib\\site-packages (from onnxruntime>=1.14.1->chromadb) (5.29.4)\n",
      "Requirement already satisfied: sympy in f:\\python\\3_10\\lib\\site-packages (from onnxruntime>=1.14.1->chromadb) (1.13.1)\n",
      "Requirement already satisfied: deprecated>=1.2.6 in f:\\python\\3_10\\lib\\site-packages (from opentelemetry-api>=1.2.0->chromadb) (1.2.18)\n",
      "Requirement already satisfied: wrapt<2,>=1.10 in f:\\python\\3_10\\lib\\site-packages (from deprecated>=1.2.6->opentelemetry-api>=1.2.0->chromadb) (1.17.2)\n",
      "Requirement already satisfied: googleapis-common-protos~=1.52 in f:\\python\\3_10\\lib\\site-packages (from opentelemetry-exporter-otlp-proto-grpc>=1.2.0->chromadb) (1.70.0)\n",
      "Requirement already satisfied: opentelemetry-exporter-otlp-proto-common==1.32.1 in f:\\python\\3_10\\lib\\site-packages (from opentelemetry-exporter-otlp-proto-grpc>=1.2.0->chromadb) (1.32.1)\n",
      "Requirement already satisfied: opentelemetry-proto==1.32.1 in f:\\python\\3_10\\lib\\site-packages (from opentelemetry-exporter-otlp-proto-grpc>=1.2.0->chromadb) (1.32.1)\n",
      "Requirement already satisfied: opentelemetry-semantic-conventions==0.53b1 in f:\\python\\3_10\\lib\\site-packages (from opentelemetry-sdk>=1.2.0->chromadb) (0.53b1)\n",
      "Requirement already satisfied: opentelemetry-instrumentation-asgi==0.53b1 in f:\\python\\3_10\\lib\\site-packages (from opentelemetry-instrumentation-fastapi>=0.41b0->chromadb) (0.53b1)\n",
      "Requirement already satisfied: opentelemetry-instrumentation==0.53b1 in f:\\python\\3_10\\lib\\site-packages (from opentelemetry-instrumentation-fastapi>=0.41b0->chromadb) (0.53b1)\n",
      "Requirement already satisfied: opentelemetry-util-http==0.53b1 in f:\\python\\3_10\\lib\\site-packages (from opentelemetry-instrumentation-fastapi>=0.41b0->chromadb) (0.53b1)\n",
      "Requirement already satisfied: asgiref~=3.0 in f:\\python\\3_10\\lib\\site-packages (from opentelemetry-instrumentation-asgi==0.53b1->opentelemetry-instrumentation-fastapi>=0.41b0->chromadb) (3.8.1)\n",
      "Requirement already satisfied: backoff>=1.10.0 in f:\\python\\3_10\\lib\\site-packages (from posthog>=2.4.0->chromadb) (2.2.1)\n",
      "Requirement already satisfied: distro>=1.5.0 in f:\\python\\3_10\\lib\\site-packages (from posthog>=2.4.0->chromadb) (1.9.0)\n",
      "Requirement already satisfied: markdown-it-py>=2.2.0 in f:\\python\\3_10\\lib\\site-packages (from rich>=10.11.0->chromadb) (3.0.0)\n",
      "Requirement already satisfied: pygments<3.0.0,>=2.13.0 in c:\\users\\h4rdwork\\appdata\\roaming\\python\\python310\\site-packages (from rich>=10.11.0->chromadb) (2.19.1)\n",
      "Requirement already satisfied: mdurl~=0.1 in f:\\python\\3_10\\lib\\site-packages (from markdown-it-py>=2.2.0->rich>=10.11.0->chromadb) (0.1.2)\n",
      "Requirement already satisfied: networkx in f:\\python\\3_10\\lib\\site-packages (from torch>=1.11.0->sentence-transformers) (3.4.2)\n",
      "Requirement already satisfied: jinja2 in f:\\python\\3_10\\lib\\site-packages (from torch>=1.11.0->sentence-transformers) (3.1.6)\n",
      "Requirement already satisfied: mpmath<1.4,>=1.1.0 in f:\\python\\3_10\\lib\\site-packages (from sympy->onnxruntime>=1.14.1->chromadb) (1.3.0)\n",
      "Requirement already satisfied: click>=8.0.0 in f:\\python\\3_10\\lib\\site-packages (from typer>=0.9.0->chromadb) (8.1.8)\n",
      "Requirement already satisfied: shellingham>=1.3.0 in f:\\python\\3_10\\lib\\site-packages (from typer>=0.9.0->chromadb) (1.5.4)\n",
      "Requirement already satisfied: httptools>=0.6.3 in f:\\python\\3_10\\lib\\site-packages (from uvicorn[standard]>=0.18.3->chromadb) (0.6.4)\n",
      "Requirement already satisfied: python-dotenv>=0.13 in f:\\python\\3_10\\lib\\site-packages (from uvicorn[standard]>=0.18.3->chromadb) (1.1.0)\n",
      "Requirement already satisfied: watchfiles>=0.13 in f:\\python\\3_10\\lib\\site-packages (from uvicorn[standard]>=0.18.3->chromadb) (1.0.5)\n",
      "Requirement already satisfied: websockets>=10.4 in f:\\python\\3_10\\lib\\site-packages (from uvicorn[standard]>=0.18.3->chromadb) (15.0.1)\n",
      "Requirement already satisfied: humanfriendly>=9.1 in f:\\python\\3_10\\lib\\site-packages (from coloredlogs->onnxruntime>=1.14.1->chromadb) (10.0)\n",
      "Requirement already satisfied: pyreadline3 in f:\\python\\3_10\\lib\\site-packages (from humanfriendly>=9.1->coloredlogs->onnxruntime>=1.14.1->chromadb) (3.5.4)\n",
      "Requirement already satisfied: MarkupSafe>=2.0 in f:\\python\\3_10\\lib\\site-packages (from jinja2->torch>=1.11.0->sentence-transformers) (3.0.2)\n",
      "Requirement already satisfied: joblib>=1.2.0 in f:\\python\\3_10\\lib\\site-packages (from scikit-learn->sentence-transformers) (1.5.0)\n",
      "Requirement already satisfied: threadpoolctl>=3.1.0 in f:\\python\\3_10\\lib\\site-packages (from scikit-learn->sentence-transformers) (3.6.0)\n"
     ]
    }
   ],
   "source": [
    "# Установка необходимых пакетов (выполнить один раз)\n",
    "!pip install chromadb sentence-transformers pypdf2 requests pdfminer pdfminer.six"
   ]
  },
  {
   "cell_type": "code",
   "execution_count": 2,
   "metadata": {},
   "outputs": [
    {
     "name": "stdout",
     "output_type": "stream",
     "text": [
      "Requirement already satisfied: ipywidgets==7.7.1 in f:\\python\\3_10\\lib\\site-packages (7.7.1)\n",
      "Requirement already satisfied: ipykernel>=4.5.1 in c:\\users\\h4rdwork\\appdata\\roaming\\python\\python310\\site-packages (from ipywidgets==7.7.1) (6.29.5)\n",
      "Requirement already satisfied: ipython-genutils~=0.2.0 in f:\\python\\3_10\\lib\\site-packages (from ipywidgets==7.7.1) (0.2.0)\n",
      "Requirement already satisfied: traitlets>=4.3.1 in c:\\users\\h4rdwork\\appdata\\roaming\\python\\python310\\site-packages (from ipywidgets==7.7.1) (5.14.3)\n",
      "Requirement already satisfied: widgetsnbextension~=3.6.0 in f:\\python\\3_10\\lib\\site-packages (from ipywidgets==7.7.1) (3.6.10)\n",
      "Requirement already satisfied: ipython>=4.0.0 in c:\\users\\h4rdwork\\appdata\\roaming\\python\\python310\\site-packages (from ipywidgets==7.7.1) (8.36.0)\n",
      "Requirement already satisfied: jupyterlab-widgets>=1.0.0 in f:\\python\\3_10\\lib\\site-packages (from ipywidgets==7.7.1) (3.0.14)\n",
      "Requirement already satisfied: notebook>=4.4.1 in f:\\python\\3_10\\lib\\site-packages (from widgetsnbextension~=3.6.0->ipywidgets==7.7.1) (7.4.1)\n",
      "Requirement already satisfied: comm>=0.1.1 in c:\\users\\h4rdwork\\appdata\\roaming\\python\\python310\\site-packages (from ipykernel>=4.5.1->ipywidgets==7.7.1) (0.2.2)\n",
      "Requirement already satisfied: debugpy>=1.6.5 in c:\\users\\h4rdwork\\appdata\\roaming\\python\\python310\\site-packages (from ipykernel>=4.5.1->ipywidgets==7.7.1) (1.8.14)\n",
      "Requirement already satisfied: jupyter-client>=6.1.12 in c:\\users\\h4rdwork\\appdata\\roaming\\python\\python310\\site-packages (from ipykernel>=4.5.1->ipywidgets==7.7.1) (8.6.3)\n",
      "Requirement already satisfied: jupyter-core!=5.0.*,>=4.12 in c:\\users\\h4rdwork\\appdata\\roaming\\python\\python310\\site-packages (from ipykernel>=4.5.1->ipywidgets==7.7.1) (5.7.2)\n",
      "Requirement already satisfied: matplotlib-inline>=0.1 in c:\\users\\h4rdwork\\appdata\\roaming\\python\\python310\\site-packages (from ipykernel>=4.5.1->ipywidgets==7.7.1) (0.1.7)\n",
      "Requirement already satisfied: nest-asyncio in c:\\users\\h4rdwork\\appdata\\roaming\\python\\python310\\site-packages (from ipykernel>=4.5.1->ipywidgets==7.7.1) (1.6.0)\n",
      "Requirement already satisfied: packaging in c:\\users\\h4rdwork\\appdata\\roaming\\python\\python310\\site-packages (from ipykernel>=4.5.1->ipywidgets==7.7.1) (25.0)\n",
      "Requirement already satisfied: psutil in c:\\users\\h4rdwork\\appdata\\roaming\\python\\python310\\site-packages (from ipykernel>=4.5.1->ipywidgets==7.7.1) (7.0.0)\n",
      "Requirement already satisfied: pyzmq>=24 in c:\\users\\h4rdwork\\appdata\\roaming\\python\\python310\\site-packages (from ipykernel>=4.5.1->ipywidgets==7.7.1) (26.4.0)\n",
      "Requirement already satisfied: tornado>=6.1 in c:\\users\\h4rdwork\\appdata\\roaming\\python\\python310\\site-packages (from ipykernel>=4.5.1->ipywidgets==7.7.1) (6.4.2)\n",
      "Requirement already satisfied: colorama in c:\\users\\h4rdwork\\appdata\\roaming\\python\\python310\\site-packages (from ipython>=4.0.0->ipywidgets==7.7.1) (0.4.6)\n",
      "Requirement already satisfied: decorator in c:\\users\\h4rdwork\\appdata\\roaming\\python\\python310\\site-packages (from ipython>=4.0.0->ipywidgets==7.7.1) (5.2.1)\n",
      "Requirement already satisfied: exceptiongroup in c:\\users\\h4rdwork\\appdata\\roaming\\python\\python310\\site-packages (from ipython>=4.0.0->ipywidgets==7.7.1) (1.2.2)\n",
      "Requirement already satisfied: jedi>=0.16 in c:\\users\\h4rdwork\\appdata\\roaming\\python\\python310\\site-packages (from ipython>=4.0.0->ipywidgets==7.7.1) (0.19.2)\n",
      "Requirement already satisfied: prompt_toolkit<3.1.0,>=3.0.41 in c:\\users\\h4rdwork\\appdata\\roaming\\python\\python310\\site-packages (from ipython>=4.0.0->ipywidgets==7.7.1) (3.0.51)\n",
      "Requirement already satisfied: pygments>=2.4.0 in c:\\users\\h4rdwork\\appdata\\roaming\\python\\python310\\site-packages (from ipython>=4.0.0->ipywidgets==7.7.1) (2.19.1)\n",
      "Requirement already satisfied: stack_data in c:\\users\\h4rdwork\\appdata\\roaming\\python\\python310\\site-packages (from ipython>=4.0.0->ipywidgets==7.7.1) (0.6.3)\n",
      "Requirement already satisfied: typing_extensions>=4.6 in c:\\users\\h4rdwork\\appdata\\roaming\\python\\python310\\site-packages (from ipython>=4.0.0->ipywidgets==7.7.1) (4.13.2)\n",
      "Requirement already satisfied: wcwidth in c:\\users\\h4rdwork\\appdata\\roaming\\python\\python310\\site-packages (from prompt_toolkit<3.1.0,>=3.0.41->ipython>=4.0.0->ipywidgets==7.7.1) (0.2.13)\n",
      "Requirement already satisfied: parso<0.9.0,>=0.8.4 in c:\\users\\h4rdwork\\appdata\\roaming\\python\\python310\\site-packages (from jedi>=0.16->ipython>=4.0.0->ipywidgets==7.7.1) (0.8.4)\n",
      "Requirement already satisfied: python-dateutil>=2.8.2 in c:\\users\\h4rdwork\\appdata\\roaming\\python\\python310\\site-packages (from jupyter-client>=6.1.12->ipykernel>=4.5.1->ipywidgets==7.7.1) (2.9.0.post0)\n",
      "Requirement already satisfied: platformdirs>=2.5 in c:\\users\\h4rdwork\\appdata\\roaming\\python\\python310\\site-packages (from jupyter-core!=5.0.*,>=4.12->ipykernel>=4.5.1->ipywidgets==7.7.1) (4.3.7)\n",
      "Requirement already satisfied: pywin32>=300 in c:\\users\\h4rdwork\\appdata\\roaming\\python\\python310\\site-packages (from jupyter-core!=5.0.*,>=4.12->ipykernel>=4.5.1->ipywidgets==7.7.1) (310)\n",
      "Requirement already satisfied: jupyter-server<3,>=2.4.0 in f:\\python\\3_10\\lib\\site-packages (from notebook>=4.4.1->widgetsnbextension~=3.6.0->ipywidgets==7.7.1) (2.15.0)\n",
      "Requirement already satisfied: jupyterlab-server<3,>=2.27.1 in f:\\python\\3_10\\lib\\site-packages (from notebook>=4.4.1->widgetsnbextension~=3.6.0->ipywidgets==7.7.1) (2.27.3)\n",
      "Requirement already satisfied: jupyterlab<4.5,>=4.4.0rc0 in f:\\python\\3_10\\lib\\site-packages (from notebook>=4.4.1->widgetsnbextension~=3.6.0->ipywidgets==7.7.1) (4.4.1)\n",
      "Requirement already satisfied: notebook-shim<0.3,>=0.2 in f:\\python\\3_10\\lib\\site-packages (from notebook>=4.4.1->widgetsnbextension~=3.6.0->ipywidgets==7.7.1) (0.2.4)\n",
      "Requirement already satisfied: anyio>=3.1.0 in f:\\python\\3_10\\lib\\site-packages (from jupyter-server<3,>=2.4.0->notebook>=4.4.1->widgetsnbextension~=3.6.0->ipywidgets==7.7.1) (4.9.0)\n",
      "Requirement already satisfied: argon2-cffi>=21.1 in f:\\python\\3_10\\lib\\site-packages (from jupyter-server<3,>=2.4.0->notebook>=4.4.1->widgetsnbextension~=3.6.0->ipywidgets==7.7.1) (23.1.0)\n",
      "Requirement already satisfied: jinja2>=3.0.3 in f:\\python\\3_10\\lib\\site-packages (from jupyter-server<3,>=2.4.0->notebook>=4.4.1->widgetsnbextension~=3.6.0->ipywidgets==7.7.1) (3.1.6)\n",
      "Requirement already satisfied: jupyter-events>=0.11.0 in f:\\python\\3_10\\lib\\site-packages (from jupyter-server<3,>=2.4.0->notebook>=4.4.1->widgetsnbextension~=3.6.0->ipywidgets==7.7.1) (0.12.0)\n",
      "Requirement already satisfied: jupyter-server-terminals>=0.4.4 in f:\\python\\3_10\\lib\\site-packages (from jupyter-server<3,>=2.4.0->notebook>=4.4.1->widgetsnbextension~=3.6.0->ipywidgets==7.7.1) (0.5.3)\n",
      "Requirement already satisfied: nbconvert>=6.4.4 in f:\\python\\3_10\\lib\\site-packages (from jupyter-server<3,>=2.4.0->notebook>=4.4.1->widgetsnbextension~=3.6.0->ipywidgets==7.7.1) (7.16.6)\n",
      "Requirement already satisfied: nbformat>=5.3.0 in f:\\python\\3_10\\lib\\site-packages (from jupyter-server<3,>=2.4.0->notebook>=4.4.1->widgetsnbextension~=3.6.0->ipywidgets==7.7.1) (5.10.4)\n",
      "Requirement already satisfied: overrides>=5.0 in f:\\python\\3_10\\lib\\site-packages (from jupyter-server<3,>=2.4.0->notebook>=4.4.1->widgetsnbextension~=3.6.0->ipywidgets==7.7.1) (7.7.0)\n",
      "Requirement already satisfied: prometheus-client>=0.9 in f:\\python\\3_10\\lib\\site-packages (from jupyter-server<3,>=2.4.0->notebook>=4.4.1->widgetsnbextension~=3.6.0->ipywidgets==7.7.1) (0.21.1)\n",
      "Requirement already satisfied: pywinpty>=2.0.1 in f:\\python\\3_10\\lib\\site-packages (from jupyter-server<3,>=2.4.0->notebook>=4.4.1->widgetsnbextension~=3.6.0->ipywidgets==7.7.1) (2.0.15)\n",
      "Requirement already satisfied: send2trash>=1.8.2 in f:\\python\\3_10\\lib\\site-packages (from jupyter-server<3,>=2.4.0->notebook>=4.4.1->widgetsnbextension~=3.6.0->ipywidgets==7.7.1) (1.8.3)\n",
      "Requirement already satisfied: terminado>=0.8.3 in f:\\python\\3_10\\lib\\site-packages (from jupyter-server<3,>=2.4.0->notebook>=4.4.1->widgetsnbextension~=3.6.0->ipywidgets==7.7.1) (0.18.1)\n",
      "Requirement already satisfied: websocket-client>=1.7 in f:\\python\\3_10\\lib\\site-packages (from jupyter-server<3,>=2.4.0->notebook>=4.4.1->widgetsnbextension~=3.6.0->ipywidgets==7.7.1) (1.8.0)\n",
      "Requirement already satisfied: async-lru>=1.0.0 in f:\\python\\3_10\\lib\\site-packages (from jupyterlab<4.5,>=4.4.0rc0->notebook>=4.4.1->widgetsnbextension~=3.6.0->ipywidgets==7.7.1) (2.0.5)\n",
      "Requirement already satisfied: httpx>=0.25.0 in f:\\python\\3_10\\lib\\site-packages (from jupyterlab<4.5,>=4.4.0rc0->notebook>=4.4.1->widgetsnbextension~=3.6.0->ipywidgets==7.7.1) (0.28.1)\n",
      "Requirement already satisfied: jupyter-lsp>=2.0.0 in f:\\python\\3_10\\lib\\site-packages (from jupyterlab<4.5,>=4.4.0rc0->notebook>=4.4.1->widgetsnbextension~=3.6.0->ipywidgets==7.7.1) (2.2.5)\n",
      "Requirement already satisfied: setuptools>=41.1.0 in f:\\python\\3_10\\lib\\site-packages (from jupyterlab<4.5,>=4.4.0rc0->notebook>=4.4.1->widgetsnbextension~=3.6.0->ipywidgets==7.7.1) (57.4.0)\n",
      "Requirement already satisfied: tomli>=1.2.2 in f:\\python\\3_10\\lib\\site-packages (from jupyterlab<4.5,>=4.4.0rc0->notebook>=4.4.1->widgetsnbextension~=3.6.0->ipywidgets==7.7.1) (2.2.1)\n",
      "Requirement already satisfied: babel>=2.10 in f:\\python\\3_10\\lib\\site-packages (from jupyterlab-server<3,>=2.27.1->notebook>=4.4.1->widgetsnbextension~=3.6.0->ipywidgets==7.7.1) (2.17.0)\n",
      "Requirement already satisfied: json5>=0.9.0 in f:\\python\\3_10\\lib\\site-packages (from jupyterlab-server<3,>=2.27.1->notebook>=4.4.1->widgetsnbextension~=3.6.0->ipywidgets==7.7.1) (0.12.0)\n",
      "Requirement already satisfied: jsonschema>=4.18.0 in f:\\python\\3_10\\lib\\site-packages (from jupyterlab-server<3,>=2.27.1->notebook>=4.4.1->widgetsnbextension~=3.6.0->ipywidgets==7.7.1) (4.23.0)\n",
      "Requirement already satisfied: requests>=2.31 in f:\\python\\3_10\\lib\\site-packages (from jupyterlab-server<3,>=2.27.1->notebook>=4.4.1->widgetsnbextension~=3.6.0->ipywidgets==7.7.1) (2.32.3)\n",
      "Requirement already satisfied: idna>=2.8 in f:\\python\\3_10\\lib\\site-packages (from anyio>=3.1.0->jupyter-server<3,>=2.4.0->notebook>=4.4.1->widgetsnbextension~=3.6.0->ipywidgets==7.7.1) (3.10)\n",
      "Requirement already satisfied: sniffio>=1.1 in f:\\python\\3_10\\lib\\site-packages (from anyio>=3.1.0->jupyter-server<3,>=2.4.0->notebook>=4.4.1->widgetsnbextension~=3.6.0->ipywidgets==7.7.1) (1.3.1)\n",
      "Requirement already satisfied: argon2-cffi-bindings in f:\\python\\3_10\\lib\\site-packages (from argon2-cffi>=21.1->jupyter-server<3,>=2.4.0->notebook>=4.4.1->widgetsnbextension~=3.6.0->ipywidgets==7.7.1) (21.2.0)\n",
      "Requirement already satisfied: certifi in f:\\python\\3_10\\lib\\site-packages (from httpx>=0.25.0->jupyterlab<4.5,>=4.4.0rc0->notebook>=4.4.1->widgetsnbextension~=3.6.0->ipywidgets==7.7.1) (2025.4.26)\n",
      "Requirement already satisfied: httpcore==1.* in f:\\python\\3_10\\lib\\site-packages (from httpx>=0.25.0->jupyterlab<4.5,>=4.4.0rc0->notebook>=4.4.1->widgetsnbextension~=3.6.0->ipywidgets==7.7.1) (1.0.9)\n",
      "Requirement already satisfied: h11>=0.16 in f:\\python\\3_10\\lib\\site-packages (from httpcore==1.*->httpx>=0.25.0->jupyterlab<4.5,>=4.4.0rc0->notebook>=4.4.1->widgetsnbextension~=3.6.0->ipywidgets==7.7.1) (0.16.0)\n",
      "Requirement already satisfied: MarkupSafe>=2.0 in f:\\python\\3_10\\lib\\site-packages (from jinja2>=3.0.3->jupyter-server<3,>=2.4.0->notebook>=4.4.1->widgetsnbextension~=3.6.0->ipywidgets==7.7.1) (3.0.2)\n",
      "Requirement already satisfied: attrs>=22.2.0 in f:\\python\\3_10\\lib\\site-packages (from jsonschema>=4.18.0->jupyterlab-server<3,>=2.27.1->notebook>=4.4.1->widgetsnbextension~=3.6.0->ipywidgets==7.7.1) (25.3.0)\n",
      "Requirement already satisfied: jsonschema-specifications>=2023.03.6 in f:\\python\\3_10\\lib\\site-packages (from jsonschema>=4.18.0->jupyterlab-server<3,>=2.27.1->notebook>=4.4.1->widgetsnbextension~=3.6.0->ipywidgets==7.7.1) (2025.4.1)\n",
      "Requirement already satisfied: referencing>=0.28.4 in f:\\python\\3_10\\lib\\site-packages (from jsonschema>=4.18.0->jupyterlab-server<3,>=2.27.1->notebook>=4.4.1->widgetsnbextension~=3.6.0->ipywidgets==7.7.1) (0.36.2)\n",
      "Requirement already satisfied: rpds-py>=0.7.1 in f:\\python\\3_10\\lib\\site-packages (from jsonschema>=4.18.0->jupyterlab-server<3,>=2.27.1->notebook>=4.4.1->widgetsnbextension~=3.6.0->ipywidgets==7.7.1) (0.24.0)\n",
      "Requirement already satisfied: python-json-logger>=2.0.4 in f:\\python\\3_10\\lib\\site-packages (from jupyter-events>=0.11.0->jupyter-server<3,>=2.4.0->notebook>=4.4.1->widgetsnbextension~=3.6.0->ipywidgets==7.7.1) (3.3.0)\n",
      "Requirement already satisfied: pyyaml>=5.3 in f:\\python\\3_10\\lib\\site-packages (from jupyter-events>=0.11.0->jupyter-server<3,>=2.4.0->notebook>=4.4.1->widgetsnbextension~=3.6.0->ipywidgets==7.7.1) (6.0.2)\n",
      "Requirement already satisfied: rfc3339-validator in f:\\python\\3_10\\lib\\site-packages (from jupyter-events>=0.11.0->jupyter-server<3,>=2.4.0->notebook>=4.4.1->widgetsnbextension~=3.6.0->ipywidgets==7.7.1) (0.1.4)\n",
      "Requirement already satisfied: rfc3986-validator>=0.1.1 in f:\\python\\3_10\\lib\\site-packages (from jupyter-events>=0.11.0->jupyter-server<3,>=2.4.0->notebook>=4.4.1->widgetsnbextension~=3.6.0->ipywidgets==7.7.1) (0.1.1)\n",
      "Requirement already satisfied: fqdn in f:\\python\\3_10\\lib\\site-packages (from jsonschema[format-nongpl]>=4.18.0->jupyter-events>=0.11.0->jupyter-server<3,>=2.4.0->notebook>=4.4.1->widgetsnbextension~=3.6.0->ipywidgets==7.7.1) (1.5.1)\n",
      "Requirement already satisfied: isoduration in f:\\python\\3_10\\lib\\site-packages (from jsonschema[format-nongpl]>=4.18.0->jupyter-events>=0.11.0->jupyter-server<3,>=2.4.0->notebook>=4.4.1->widgetsnbextension~=3.6.0->ipywidgets==7.7.1) (20.11.0)\n",
      "Requirement already satisfied: jsonpointer>1.13 in f:\\python\\3_10\\lib\\site-packages (from jsonschema[format-nongpl]>=4.18.0->jupyter-events>=0.11.0->jupyter-server<3,>=2.4.0->notebook>=4.4.1->widgetsnbextension~=3.6.0->ipywidgets==7.7.1) (3.0.0)\n",
      "Requirement already satisfied: uri-template in f:\\python\\3_10\\lib\\site-packages (from jsonschema[format-nongpl]>=4.18.0->jupyter-events>=0.11.0->jupyter-server<3,>=2.4.0->notebook>=4.4.1->widgetsnbextension~=3.6.0->ipywidgets==7.7.1) (1.3.0)\n",
      "Requirement already satisfied: webcolors>=24.6.0 in f:\\python\\3_10\\lib\\site-packages (from jsonschema[format-nongpl]>=4.18.0->jupyter-events>=0.11.0->jupyter-server<3,>=2.4.0->notebook>=4.4.1->widgetsnbextension~=3.6.0->ipywidgets==7.7.1) (24.11.1)\n",
      "Requirement already satisfied: beautifulsoup4 in f:\\python\\3_10\\lib\\site-packages (from nbconvert>=6.4.4->jupyter-server<3,>=2.4.0->notebook>=4.4.1->widgetsnbextension~=3.6.0->ipywidgets==7.7.1) (4.13.4)\n",
      "Requirement already satisfied: bleach!=5.0.0 in f:\\python\\3_10\\lib\\site-packages (from bleach[css]!=5.0.0->nbconvert>=6.4.4->jupyter-server<3,>=2.4.0->notebook>=4.4.1->widgetsnbextension~=3.6.0->ipywidgets==7.7.1) (6.2.0)\n",
      "Requirement already satisfied: defusedxml in f:\\python\\3_10\\lib\\site-packages (from nbconvert>=6.4.4->jupyter-server<3,>=2.4.0->notebook>=4.4.1->widgetsnbextension~=3.6.0->ipywidgets==7.7.1) (0.7.1)\n",
      "Requirement already satisfied: jupyterlab-pygments in f:\\python\\3_10\\lib\\site-packages (from nbconvert>=6.4.4->jupyter-server<3,>=2.4.0->notebook>=4.4.1->widgetsnbextension~=3.6.0->ipywidgets==7.7.1) (0.3.0)\n",
      "Requirement already satisfied: mistune<4,>=2.0.3 in f:\\python\\3_10\\lib\\site-packages (from nbconvert>=6.4.4->jupyter-server<3,>=2.4.0->notebook>=4.4.1->widgetsnbextension~=3.6.0->ipywidgets==7.7.1) (3.1.3)\n",
      "Requirement already satisfied: nbclient>=0.5.0 in f:\\python\\3_10\\lib\\site-packages (from nbconvert>=6.4.4->jupyter-server<3,>=2.4.0->notebook>=4.4.1->widgetsnbextension~=3.6.0->ipywidgets==7.7.1) (0.10.2)\n",
      "Requirement already satisfied: pandocfilters>=1.4.1 in f:\\python\\3_10\\lib\\site-packages (from nbconvert>=6.4.4->jupyter-server<3,>=2.4.0->notebook>=4.4.1->widgetsnbextension~=3.6.0->ipywidgets==7.7.1) (1.5.1)\n",
      "Requirement already satisfied: webencodings in f:\\python\\3_10\\lib\\site-packages (from bleach!=5.0.0->bleach[css]!=5.0.0->nbconvert>=6.4.4->jupyter-server<3,>=2.4.0->notebook>=4.4.1->widgetsnbextension~=3.6.0->ipywidgets==7.7.1) (0.5.1)\n",
      "Requirement already satisfied: tinycss2<1.5,>=1.1.0 in f:\\python\\3_10\\lib\\site-packages (from bleach[css]!=5.0.0->nbconvert>=6.4.4->jupyter-server<3,>=2.4.0->notebook>=4.4.1->widgetsnbextension~=3.6.0->ipywidgets==7.7.1) (1.4.0)\n",
      "Requirement already satisfied: fastjsonschema>=2.15 in f:\\python\\3_10\\lib\\site-packages (from nbformat>=5.3.0->jupyter-server<3,>=2.4.0->notebook>=4.4.1->widgetsnbextension~=3.6.0->ipywidgets==7.7.1) (2.21.1)\n",
      "Requirement already satisfied: six>=1.5 in c:\\users\\h4rdwork\\appdata\\roaming\\python\\python310\\site-packages (from python-dateutil>=2.8.2->jupyter-client>=6.1.12->ipykernel>=4.5.1->ipywidgets==7.7.1) (1.17.0)\n",
      "Requirement already satisfied: charset-normalizer<4,>=2 in f:\\python\\3_10\\lib\\site-packages (from requests>=2.31->jupyterlab-server<3,>=2.27.1->notebook>=4.4.1->widgetsnbextension~=3.6.0->ipywidgets==7.7.1) (3.4.2)\n",
      "Requirement already satisfied: urllib3<3,>=1.21.1 in f:\\python\\3_10\\lib\\site-packages (from requests>=2.31->jupyterlab-server<3,>=2.27.1->notebook>=4.4.1->widgetsnbextension~=3.6.0->ipywidgets==7.7.1) (2.4.0)\n",
      "Requirement already satisfied: cffi>=1.0.1 in f:\\python\\3_10\\lib\\site-packages (from argon2-cffi-bindings->argon2-cffi>=21.1->jupyter-server<3,>=2.4.0->notebook>=4.4.1->widgetsnbextension~=3.6.0->ipywidgets==7.7.1) (1.17.1)\n",
      "Requirement already satisfied: pycparser in f:\\python\\3_10\\lib\\site-packages (from cffi>=1.0.1->argon2-cffi-bindings->argon2-cffi>=21.1->jupyter-server<3,>=2.4.0->notebook>=4.4.1->widgetsnbextension~=3.6.0->ipywidgets==7.7.1) (2.22)\n",
      "Requirement already satisfied: soupsieve>1.2 in f:\\python\\3_10\\lib\\site-packages (from beautifulsoup4->nbconvert>=6.4.4->jupyter-server<3,>=2.4.0->notebook>=4.4.1->widgetsnbextension~=3.6.0->ipywidgets==7.7.1) (2.7)\n",
      "Requirement already satisfied: arrow>=0.15.0 in f:\\python\\3_10\\lib\\site-packages (from isoduration->jsonschema[format-nongpl]>=4.18.0->jupyter-events>=0.11.0->jupyter-server<3,>=2.4.0->notebook>=4.4.1->widgetsnbextension~=3.6.0->ipywidgets==7.7.1) (1.3.0)\n",
      "Requirement already satisfied: types-python-dateutil>=2.8.10 in f:\\python\\3_10\\lib\\site-packages (from arrow>=0.15.0->isoduration->jsonschema[format-nongpl]>=4.18.0->jupyter-events>=0.11.0->jupyter-server<3,>=2.4.0->notebook>=4.4.1->widgetsnbextension~=3.6.0->ipywidgets==7.7.1) (2.9.0.20241206)\n",
      "Requirement already satisfied: executing>=1.2.0 in c:\\users\\h4rdwork\\appdata\\roaming\\python\\python310\\site-packages (from stack_data->ipython>=4.0.0->ipywidgets==7.7.1) (2.2.0)\n",
      "Requirement already satisfied: asttokens>=2.1.0 in c:\\users\\h4rdwork\\appdata\\roaming\\python\\python310\\site-packages (from stack_data->ipython>=4.0.0->ipywidgets==7.7.1) (3.0.0)\n",
      "Requirement already satisfied: pure-eval in c:\\users\\h4rdwork\\appdata\\roaming\\python\\python310\\site-packages (from stack_data->ipython>=4.0.0->ipywidgets==7.7.1) (0.2.3)\n"
     ]
    }
   ],
   "source": [
    "# Установка библтотеки для реализации простого UI\n",
    "!pip install -U ipywidgets==7.7.1   "
   ]
  },
  {
   "cell_type": "code",
   "execution_count": 3,
   "metadata": {
    "id": "LmctkgtckGii"
   },
   "outputs": [],
   "source": [
    "# Импорт библиотек\n",
    "import os\n",
    "from PyPDF2 import PdfReader\n",
    "from sentence_transformers import SentenceTransformer\n",
    "import chromadb\n",
    "from chromadb.config import Settings\n",
    "import requests\n",
    "from IPython.display import display, Markdown\n",
    "import ipywidgets as widgets\n",
    "from IPython.display import clear_output\n",
    "import requests\n",
    "import json\n",
    "import re\n",
    "import io\n",
    "from PyPDF2 import PdfReader\n",
    "from pdfminer.high_level import extract_text as pdfminer_extract\n",
    "import multiprocessing\n",
    "from typing import Optional\n",
    "import numpy as np\n",
    "from concurrent.futures import ThreadPoolExecutor\n",
    "from tqdm import tqdm"
   ]
  },
  {
   "cell_type": "code",
   "execution_count": 4,
   "metadata": {},
   "outputs": [],
   "source": [
    "# Импорт wandb и метрик оценки\n",
    "import wandb\n",
    "from nltk.translate.bleu_score import sentence_bleu\n",
    "from rouge_score import rouge_scorer"
   ]
  },
  {
   "cell_type": "code",
   "execution_count": 5,
   "id": "cea1a825",
   "metadata": {},
   "outputs": [
    {
     "name": "stderr",
     "output_type": "stream",
     "text": [
      "wandb: WARNING If you're specifying your api key in code, ensure this code is not shared publicly.\n",
      "wandb: WARNING Consider setting the WANDB_API_KEY environment variable, or running `wandb login` from the command line.\n",
      "wandb: Appending key for api.wandb.ai to your netrc file: C:\\Users\\H4rdwork\\_netrc\n",
      "wandb: Currently logged in as: yugik (yugik-tomsk-state-university) to https://api.wandb.ai. Use `wandb login --relogin` to force relogin\n"
     ]
    },
    {
     "data": {
      "text/html": [
       "creating run (0.3s)"
      ],
      "text/plain": [
       "<IPython.core.display.HTML object>"
      ]
     },
     "metadata": {},
     "output_type": "display_data"
    },
    {
     "data": {
      "text/html": [
       "Tracking run with wandb version 0.19.10"
      ],
      "text/plain": [
       "<IPython.core.display.HTML object>"
      ]
     },
     "metadata": {},
     "output_type": "display_data"
    },
    {
     "data": {
      "text/html": [
       "Run data is saved locally in <code>f:\\code\\wandb\\run-20250507_105644-vegld51r</code>"
      ],
      "text/plain": [
       "<IPython.core.display.HTML object>"
      ]
     },
     "metadata": {},
     "output_type": "display_data"
    },
    {
     "data": {
      "text/html": [
       "Syncing run <strong><a href='https://wandb.ai/yugik-tomsk-state-university/rag-eval/runs/vegld51r' target=\"_blank\">ChromaDB + LLM response evaluation</a></strong> to <a href='https://wandb.ai/yugik-tomsk-state-university/rag-eval' target=\"_blank\">Weights & Biases</a> (<a href='https://wandb.me/developer-guide' target=\"_blank\">docs</a>)<br>"
      ],
      "text/plain": [
       "<IPython.core.display.HTML object>"
      ]
     },
     "metadata": {},
     "output_type": "display_data"
    },
    {
     "data": {
      "text/html": [
       " View project at <a href='https://wandb.ai/yugik-tomsk-state-university/rag-eval' target=\"_blank\">https://wandb.ai/yugik-tomsk-state-university/rag-eval</a>"
      ],
      "text/plain": [
       "<IPython.core.display.HTML object>"
      ]
     },
     "metadata": {},
     "output_type": "display_data"
    },
    {
     "data": {
      "text/html": [
       " View run at <a href='https://wandb.ai/yugik-tomsk-state-university/rag-eval/runs/vegld51r' target=\"_blank\">https://wandb.ai/yugik-tomsk-state-university/rag-eval/runs/vegld51r</a>"
      ],
      "text/plain": [
       "<IPython.core.display.HTML object>"
      ]
     },
     "metadata": {},
     "output_type": "display_data"
    },
    {
     "data": {
      "text/html": [
       "<button onClick=\"this.nextSibling.style.display='block';this.style.display='none';\">Display W&B run</button><iframe src='https://wandb.ai/yugik-tomsk-state-university/rag-eval/runs/vegld51r?jupyter=true' style='border:none;width:100%;height:420px;display:none;'></iframe>"
      ],
      "text/plain": [
       "<wandb.sdk.wandb_run.Run at 0x124540b9570>"
      ]
     },
     "execution_count": 5,
     "metadata": {},
     "output_type": "execute_result"
    }
   ],
   "source": [
    "# Авторизация в wandb (или настройка через .netrc)\n",
    "wandb.login(key=\"d8feca2d41600ef144d9b8c9fc65e09625d2fa8c\")\n",
    "wandb.init(project=\"rag-eval\", name=\"ChromaDB + LLM response evaluation\")"
   ]
  },
  {
   "cell_type": "code",
   "execution_count": 6,
   "metadata": {},
   "outputs": [],
   "source": [
    "# Функция оценки BLEU и ROUGE\n",
    "def evaluate_metrics(reference, hypothesis):\n",
    "    # BLEU\n",
    "    bleu_score = sentence_bleu([reference.split()], hypothesis.split())\n",
    "\n",
    "    # ROUGE\n",
    "    scorer = rouge_scorer.RougeScorer(['rouge1', 'rougeL'], use_stemmer=True)\n",
    "    scores = scorer.score(reference, hypothesis)\n",
    "\n",
    "    rouge1 = scores['rouge1'].fmeasure\n",
    "    rougeL = scores['rougeL'].fmeasure\n",
    "\n",
    "    return bleu_score, rouge1, rougeL"
   ]
  },
  {
   "cell_type": "code",
   "execution_count": 7,
   "metadata": {
    "id": "Gx5n9yfLkKn8"
   },
   "outputs": [
    {
     "name": "stdout",
     "output_type": "stream",
     "text": [
      "Загрузка модели для эмбеддингов...\n"
     ]
    }
   ],
   "source": [
    "# Конфигурация\n",
    "EMBEDDING_MODEL_NAME = \"cointegrated/rubert-tiny2\"\n",
    "CHROMA_DB_PATH = \"./chroma_db\"\n",
    "DOCUMENTS_DIR = \"./documents\"\n",
    "LLM_API_URL = \"http://localhost:1234/v1/chat/completions\"  # URL вашего локального LLM API\n",
    "LLM_MODEL =  \"yandexgpt-5-lite-8b-instruct\" # LLM модель которую будем использовать для генерации ответа\n",
    "\n",
    "# Инициализация модели для эмбеддингов\n",
    "print(\"Загрузка модели для эмбеддингов...\")\n",
    "embedding_model = SentenceTransformer(EMBEDDING_MODEL_NAME)\n",
    "\n",
    "# Инициализация ChromaDB\n",
    "chroma_client = chromadb.PersistentClient(path=CHROMA_DB_PATH, settings=Settings(allow_reset=True))"
   ]
  },
  {
   "cell_type": "code",
   "execution_count": 8,
   "metadata": {
    "id": "Zu5w45y6kpRI"
   },
   "outputs": [],
   "source": [
    "# Создание или получение коллекции\n",
    "collection = chroma_client.get_or_create_collection(\n",
    "    name=\"documents_collection\",\n",
    "    metadata={\"hnsw:space\": \"cosine\"}  # Используем косинусное расстояние\n",
    ")"
   ]
  },
  {
   "cell_type": "code",
   "execution_count": 9,
   "metadata": {
    "id": "CM99sy1UkrRK"
   },
   "outputs": [],
   "source": [
    "# Функция извлечения текста и з PDF файла.\n",
    "def extract_text_from_pdf(pdf_path: str, \n",
    "                         engine: str = \"pypdf2\", \n",
    "                         parallel: bool = False) -> Optional[str]:\n",
    "    \"\"\"\n",
    "    Извлекает текст из PDF файла с выбором движка и возможностью параллельной обработки\n",
    "    \n",
    "    Параметры:\n",
    "        pdf_path: путь к PDF файлу\n",
    "        engine: движок для извлечения (\"pypdf2\" или \"pdfminer\")\n",
    "        parallel: использовать многопоточность (только для pypdf2)\n",
    "    \n",
    "    Возвращает:\n",
    "        Текст документа или None при ошибке\n",
    "    \"\"\"\n",
    "    def _extract_with_pypdf2(file_stream):\n",
    "        \"\"\"Внутренняя функция для pypdf2\"\"\"\n",
    "        try:\n",
    "            reader = PdfReader(file_stream)\n",
    "            if parallel:\n",
    "                with multiprocessing.Pool() as pool:\n",
    "                    texts = pool.map(lambda page: page.extract_text(), reader.pages)\n",
    "                return \"\\n\".join(filter(None, texts))\n",
    "            return \"\\n\".join(page.extract_text() or \"\" for page in reader.pages)\n",
    "        except Exception as e:\n",
    "            print(f\"Ошибка PyPDF2: {e}\")\n",
    "            return None\n",
    "\n",
    "    def _extract_with_pdfminer(file_stream):\n",
    "        \"\"\"Внутренняя функция для pdfminer\"\"\"\n",
    "        try:\n",
    "            return pdfminer_extract(file_stream)\n",
    "        except Exception as e:\n",
    "            print(f\"Ошибка pdfminer: {e}\")\n",
    "            return None\n",
    "\n",
    "    try:\n",
    "        with open(pdf_path, \"rb\") as f:\n",
    "            file_stream = io.BytesIO(f.read())\n",
    "            \n",
    "            if engine == \"pdfminer\":\n",
    "                return _extract_with_pdfminer(file_stream)\n",
    "            else:\n",
    "                return _extract_with_pypdf2(file_stream)\n",
    "                \n",
    "    except Exception as e:\n",
    "        print(f\"Ошибка чтения файла {pdf_path}: {e}\")\n",
    "        return None"
   ]
  },
  {
   "cell_type": "code",
   "execution_count": 10,
   "metadata": {},
   "outputs": [],
   "source": [
    "# Функция разбивки текста на чанки\n",
    "def chunk_text(text, chunk_size=450, overlap=50):\n",
    "    \"\"\"Разбивает текст на чанки с перекрытием\"\"\"\n",
    "    words = text.split()\n",
    "    chunks = []\n",
    "    for i in range(0, len(words), chunk_size - overlap):\n",
    "        chunk = \" \".join(words[i:i + chunk_size])\n",
    "        chunks.append(chunk)\n",
    "    return chunks"
   ]
  },
  {
   "cell_type": "code",
   "execution_count": 11,
   "metadata": {
    "id": "gTmwiTBvkz3P"
   },
   "outputs": [],
   "source": [
    "# Функция обработки документа или документов если их несколько\n",
    "def process_documents():\n",
    "    \"\"\"Оптимизированная обработка PDF с параллельным выполнением и батчингом\"\"\"\n",
    "    # Создаем директорию если не существует\n",
    "    os.makedirs(DOCUMENTS_DIR, exist_ok=True)\n",
    "    \n",
    "    # Получаем список PDF файлов\n",
    "    pdf_files = [f for f in os.listdir(DOCUMENTS_DIR) \n",
    "                if f.lower().endswith(\".pdf\")]\n",
    "    if not pdf_files:\n",
    "        print(f\"В директории {DOCUMENTS_DIR} не найдено PDF файлов.\")\n",
    "        return\n",
    "\n",
    "    print(f\"Начата обработка {len(pdf_files)} PDF файлов...\")\n",
    "\n",
    "    def process_single_file(pdf_file):\n",
    "        \"\"\"Обработка одного PDF файла\"\"\"\n",
    "        pdf_path = os.path.join(DOCUMENTS_DIR, pdf_file)\n",
    "        try:\n",
    "            text = extract_text_from_pdf(pdf_path)\n",
    "            chunks = chunk_text(text)\n",
    "            return [\n",
    "                {\n",
    "                    \"text\": chunk,\n",
    "                    \"metadata\": {\"source\": pdf_file, \"chunk_num\": i},\n",
    "                    \"id\": f\"{pdf_file}_chunk_{i}\"\n",
    "                }\n",
    "                for i, chunk in enumerate(chunks)\n",
    "            ]\n",
    "        except Exception as e:\n",
    "            print(f\"Ошибка обработки файла {pdf_file}: {e}\")\n",
    "            return []\n",
    "\n",
    "    # Параллельная обработка файлов\n",
    "    with ThreadPoolExecutor(max_workers=os.cpu_count()) as executor:\n",
    "        results = list(tqdm(\n",
    "            executor.map(process_single_file, pdf_files),\n",
    "            total=len(pdf_files),\n",
    "            desc=\"Обработка PDF файлов\"\n",
    "        ))\n",
    "\n",
    "    # Подготовка данных для ChromaDB\n",
    "    documents = []\n",
    "    metadatas = []\n",
    "    ids = []\n",
    "    \n",
    "    for result in results:\n",
    "        for item in result:\n",
    "            documents.append(item[\"text\"])\n",
    "            metadatas.append(item[\"metadata\"])\n",
    "            ids.append(item[\"id\"])\n",
    "\n",
    "    if not documents:\n",
    "        print(\"Нет документов для добавления.\")\n",
    "        return\n",
    "\n",
    "    # Оптимизированная генерация эмбеддингов с батчингом\n",
    "    print(\"Генерация эмбеддингов...\")\n",
    "    batch_size = 128  # Оптимальный размер батча для большинства GPU\n",
    "    embeddings = []\n",
    "    \n",
    "    for i in tqdm(range(0, len(documents), batch_size),\n",
    "                    desc=\"Генерация эмбеддингов\",\n",
    "                    unit=\"batch\"):\n",
    "        batch = documents[i:i + batch_size]\n",
    "        embeddings_batch = embedding_model.encode(\n",
    "            batch,\n",
    "            normalize_embeddings=True,\n",
    "            convert_to_numpy=True,\n",
    "            show_progress_bar=False\n",
    "        )\n",
    "        embeddings.append(embeddings_batch)\n",
    "    \n",
    "    embeddings = np.vstack(embeddings)\n",
    "\n",
    "    # Пакетное добавление в ChromaDB (актуальный API)\n",
    "    print(\"Добавление документов в ChromaDB...\")\n",
    "    collection.add(\n",
    "        ids=ids,\n",
    "        documents=documents,\n",
    "        metadatas=metadatas,\n",
    "        embeddings=embeddings.tolist() if isinstance(embeddings, np.ndarray) else embeddings\n",
    "    )\n",
    "    \n",
    "    print(f\"Успешно добавлено {len(documents)} чанков из {len(pdf_files)} файлов\")\n",
    "\n",
    "    # Оптимизация индекса (для ChromaDB >= 0.4.0)\n",
    "    if hasattr(collection, 'update_index'):\n",
    "        collection.update_index()\n",
    "        print(\"Индекс ChromaDB обновлен\")\n",
    "    else:\n",
    "        print(\"Автоматическая оптимизация индекса не требуется\")"
   ]
  },
  {
   "cell_type": "code",
   "execution_count": null,
   "metadata": {},
   "outputs": [],
   "source": [
    "# Функция отправкм в LLM контекста и сообщения.\n",
    "def query_llm_api(prompt, context, max_tokens=4096):\n",
    "    messages = [\n",
    "        {\n",
    "            \"role\": \"system\",\n",
    "            \"content\": \"\"\"Ты - помощник, который отвечает на вопросы на основе предоставленного контекста. \n",
    "            Если ответа нет в контексте, скажи, что не знаешь. Не придумывай информацию.\"\"\"\n",
    "        },\n",
    "        {\n",
    "            \"role\": \"user\",\n",
    "            \"content\": f\"\"\"Контекст: {context}\\n\\nВопрос: {prompt}\"\"\"\n",
    "        }\n",
    "    ]\n",
    "\n",
    "    data={\n",
    "     \"model\": LLM_MODEL,  \n",
    "     \"messages\":  messages,\n",
    "     \"max_tokens\": max_tokens,\n",
    "     \"temperature\": 0.45\n",
    "            }\n",
    "    \n",
    "    headers = {\n",
    "    \"Content-Type\": \"application/json\" }\n",
    "    \n",
    "    response = requests.post(LLM_API_URL, headers=headers, data=json.dumps(data), timeout=180)\n",
    "                  \n",
    "    if response.status_code == 200:\n",
    "        result = response.json()\n",
    "        print(result[\"choices\"][0][\"message\"][\"content\"])\n",
    "    else:\n",
    "        print(f\"Error: {response.status_code}\")"
   ]
  },
  {
   "cell_type": "code",
   "execution_count": 13,
   "metadata": {
    "id": "_1vEVi64k6QU"
   },
   "outputs": [],
   "source": [
    "def ask_question(question):\n",
    "    \"\"\"Функция для обработки вопроса пользователя\"\"\"\n",
    "    # Получаем эмбеддинг запроса\n",
    "    query_embedding = embedding_model.encode(question, normalize_embeddings=True).tolist()\n",
    "\n",
    "    # Ищем релевантные документы\n",
    "    results = collection.query(\n",
    "        query_embeddings=[query_embedding],\n",
    "        n_results=3  # Количество возвращаемых результатов\n",
    "    )\n",
    "\n",
    "    # Извлекаем контекст\n",
    "    context = \"\\n\\n\".join(results[\"documents\"][0])\n",
    "\n",
    "    # Генерируем ответ с помощью LLM\n",
    "    answer = query_llm_api(question, context)\n",
    "\n",
    "    # Также получаем источники для ссылок\n",
    "    sources = list(set([metadata[\"source\"] for metadata in results[\"metadatas\"][0]]))\n",
    "\n",
    "    # Выводим результат\n",
    "    display(Markdown(f\"**Вопрос:** {question}\"))\n",
    "    #display(Markdown(f\"**Ответ:** {answer}\"))\n",
    "    if sources:\n",
    "        display(Markdown(\"**Источники:**\"))\n",
    "        for source in sources:\n",
    "            display(Markdown(f\"- {source}\"))"
   ]
  },
  {
   "cell_type": "code",
   "execution_count": 14,
   "metadata": {
    "id": "047ob8SVk7Y4"
   },
   "outputs": [],
   "source": [
    "# Функция очистки CromaDB от сохраненного в нее контекста.\n",
    "def reset_database():\n",
    "    \"\"\"Сброс базы данных\"\"\"\n",
    "    try:\n",
    "        chroma_client.reset()\n",
    "        global collection\n",
    "        collection = chroma_client.get_or_create_collection(\n",
    "            name=\"documents_collection\",\n",
    "            metadata={\"hnsw:space\": \"cosine\"}\n",
    "        )\n",
    "        print(\"База данных успешно сброшена.\")\n",
    "    except Exception as e:\n",
    "        print(f\"Ошибка при сбросе базы данных: {e}\")"
   ]
  },
  {
   "cell_type": "code",
   "execution_count": 15,
   "metadata": {
    "id": "H5HqcDZ5lGCc"
   },
   "outputs": [],
   "source": [
    "# Создаем интерфейс для взаимодействия\n",
    "def create_interface():\n",
    "    # Обработка документов при запуске\n",
    "    process_documents()\n",
    "\n",
    "    # Создаем элементы интерфейса\n",
    "    question_input = widgets.Textarea(\n",
    "        value='',\n",
    "        placeholder='Введите ваш вопрос...',\n",
    "        description='Вопрос:',\n",
    "        layout={'width': '80%'},\n",
    "        rows=3\n",
    "    )\n",
    "\n",
    "    ask_button = widgets.Button(description=\"Задать вопрос\")\n",
    "    reset_button = widgets.Button(description=\"Сбросить базу данных\")\n",
    "    output = widgets.Output()\n",
    "\n",
    "    def on_ask_button_clicked(b):\n",
    "        with output:\n",
    "            clear_output()\n",
    "            ask_question(question_input.value)\n",
    "\n",
    "    def on_reset_button_clicked(b):\n",
    "        with output:\n",
    "            clear_output()\n",
    "            reset_database()\n",
    "            print(\"База данных сброшена. Загрузите документы заново.\")\n",
    "\n",
    "    ask_button.on_click(on_ask_button_clicked)\n",
    "    reset_button.on_click(on_reset_button_clicked)\n",
    "\n",
    "    # Отображаем интерфейс\n",
    "    display(widgets.VBox([\n",
    "        widgets.HBox([question_input, ask_button]),\n",
    "        reset_button,\n",
    "        output\n",
    "    ]))"
   ]
  },
  {
   "cell_type": "code",
   "execution_count": 16,
   "metadata": {
    "colab": {
     "base_uri": "https://localhost:8080/",
     "height": 280
    },
    "id": "gfhiMqzjjpbp",
    "outputId": "b83dd772-9bde-4990-d270-c886b1aaefde"
   },
   "outputs": [
    {
     "name": "stdout",
     "output_type": "stream",
     "text": [
      "Начата обработка 1 PDF файлов...\n"
     ]
    },
    {
     "name": "stderr",
     "output_type": "stream",
     "text": [
      "Обработка PDF файлов: 100%|██████████| 1/1 [00:13<00:00, 13.82s/it]\n"
     ]
    },
    {
     "name": "stdout",
     "output_type": "stream",
     "text": [
      "Генерация эмбеддингов...\n"
     ]
    },
    {
     "name": "stderr",
     "output_type": "stream",
     "text": [
      "Генерация эмбеддингов: 100%|██████████| 1/1 [00:08<00:00,  8.19s/batch]\n"
     ]
    },
    {
     "name": "stdout",
     "output_type": "stream",
     "text": [
      "Добавление документов в ChromaDB...\n",
      "Успешно добавлено 96 чанков из 1 файлов\n",
      "Автоматическая оптимизация индекса не требуется\n"
     ]
    },
    {
     "data": {
      "application/vnd.jupyter.widget-view+json": {
       "model_id": "64cd3e4825bb464ebf97ee6f6b0e7cdd",
       "version_major": 2,
       "version_minor": 0
      },
      "text/plain": [
       "VBox(children=(HBox(children=(Textarea(value='', description='Вопрос:', layout=Layout(width='80%'), placeholde…"
      ]
     },
     "metadata": {},
     "output_type": "display_data"
    }
   ],
   "source": [
    "# Запускаем интерфейс для работы с LLM.\n",
    "create_interface()"
   ]
  }
 ],
 "metadata": {
  "colab": {
   "provenance": []
  },
  "kernelspec": {
   "display_name": "Python 3",
   "name": "python3"
  },
  "language_info": {
   "codemirror_mode": {
    "name": "ipython",
    "version": 3
   },
   "file_extension": ".py",
   "mimetype": "text/x-python",
   "name": "python",
   "nbconvert_exporter": "python",
   "pygments_lexer": "ipython3",
   "version": "3.10.0"
  }
 },
 "nbformat": 4,
 "nbformat_minor": 0
}
